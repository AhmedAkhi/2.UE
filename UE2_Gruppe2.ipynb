{
 "cells": [
  {
   "cell_type": "code",
   "execution_count": 7,
   "metadata": {},
   "outputs": [],
   "source": [
    "# Import von Packages\n",
    "import numpy as np\n",
    "import pandas as pd\n",
    "import matplotlib.pyplot as plt\n",
    "import math"
   ]
  },
  {
   "cell_type": "code",
   "execution_count": 8,
   "metadata": {},
   "outputs": [],
   "source": [
    "# Input - Parameter\n",
    "Pv_kWp = 10\n",
    "Zinsatz = 0.06\n",
    "Systemkosten = 800\n",
    "Betriebskosten = 10 \n",
    "Lebensdauer = 20\n",
    "\n",
    "\n",
    "dfEinspeisung = pd.read_csv(\"PV_Einspeisung.csv\")\n",
    "dfEinspeisung.rename(columns = {0:'Leistung'}, inplace = True)\n",
    "\n",
    "dfPeise2023 = pd.read_csv(\"ENTSOE_prices_for_2023_in_ct_per_kWh.csv\")\n",
    "#dfPeise2023_AT = dfPeise2023.split(\";\")[0]"
   ]
  },
  {
   "cell_type": "code",
   "execution_count": null,
   "metadata": {},
   "outputs": [],
   "source": []
  }
 ],
 "metadata": {
  "kernelspec": {
   "display_name": "base",
   "language": "python",
   "name": "python3"
  },
  "language_info": {
   "codemirror_mode": {
    "name": "ipython",
    "version": 3
   },
   "file_extension": ".py",
   "mimetype": "text/x-python",
   "name": "python",
   "nbconvert_exporter": "python",
   "pygments_lexer": "ipython3",
   "version": "3.11.7"
  }
 },
 "nbformat": 4,
 "nbformat_minor": 2
}
